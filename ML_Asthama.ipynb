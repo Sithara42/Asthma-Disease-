{
 "cells": [
  {
   "cell_type": "markdown",
   "metadata": {},
   "source": [
    "A collection of data points encompassing various medical and environmental factors related to asthma, used for research purposes to understand the disease, identify potential triggers, and develop predictive models for asthma attacks, typically including details like patient demographics, clinical symptoms, medication usage, environmental exposures, and lung function test results, allowing researchers to analyze patterns and correlations within the data to gain insights into asthma management and treatment strategies. "
   ]
  },
  {
   "cell_type": "markdown",
   "metadata": {},
   "source": [
    "STEP 1: Import Required Libraries"
   ]
  },
  {
   "cell_type": "code",
   "execution_count": 71,
   "metadata": {},
   "outputs": [],
   "source": [
    "import pandas as pd\n",
    "import numpy as np\n",
    "import matplotlib.pyplot as plt\n",
    "import seaborn as sns\n",
    "from sklearn.model_selection import train_test_split\n",
    "from sklearn.preprocessing import StandardScaler\n",
    "from imblearn.over_sampling import SMOTE # type: ignore\n",
    "from sklearn.ensemble import RandomForestClassifier\n",
    "from sklearn.neighbors import KNeighborsClassifier\n",
    "from sklearn.neural_network import MLPClassifier\n",
    "from xgboost import XGBClassifier\n",
    "from sklearn.metrics import  accuracy_score, confusion_matrix\n",
    "\n"
   ]
  },
  {
   "cell_type": "markdown",
   "metadata": {},
   "source": [
    "STEP 2: Reading Dataset"
   ]
  },
  {
   "cell_type": "code",
   "execution_count": 72,
   "metadata": {},
   "outputs": [
    {
     "name": "stdout",
     "output_type": "stream",
     "text": [
      "      PatientID  Age  Gender  Ethnicity  EducationLevel        BMI  Smoking  \\\n",
      "0          5034   63       0          1               0  15.848744        0   \n",
      "1          5035   26       1          2               2  22.757042        0   \n",
      "2          5036   57       0          2               1  18.395396        0   \n",
      "3          5037   40       1          2               1  38.515278        0   \n",
      "4          5038   61       0          0               3  19.283802        0   \n",
      "...         ...  ...     ...        ...             ...        ...      ...   \n",
      "2387       7421   43       1          0               2  29.059613        0   \n",
      "2388       7422   18       1          0               1  20.740850        0   \n",
      "2389       7423   54       0          3               2  37.079560        0   \n",
      "2390       7424   46       1          0               2  23.444712        0   \n",
      "2391       7425   26       1          0               0  28.123021        1   \n",
      "\n",
      "      PhysicalActivity  DietQuality  SleepQuality  ...  LungFunctionFEV1  \\\n",
      "0             0.894448     5.488696      8.701003  ...          1.369051   \n",
      "1             5.897329     6.341014      5.153966  ...          2.197767   \n",
      "2             6.739367     9.196237      6.840647  ...          1.698011   \n",
      "3             1.404503     5.826532      4.253036  ...          3.032037   \n",
      "4             4.604493     3.127048      9.625799  ...          3.470589   \n",
      "...                ...          ...           ...  ...               ...   \n",
      "2387          3.019854     6.119637      8.300960  ...          3.125249   \n",
      "2388          5.805180     4.386992      7.731192  ...          1.132977   \n",
      "2389          4.735169     8.214064      7.483521  ...          1.685962   \n",
      "2390          9.672637     7.362861      6.717272  ...          3.481549   \n",
      "2391          1.613138     7.412878      8.512253  ...          2.280613   \n",
      "\n",
      "      LungFunctionFVC  Wheezing  ShortnessOfBreath  ChestTightness  Coughing  \\\n",
      "0            4.941206         0                  0               1         0   \n",
      "1            1.702393         1                  0               0         1   \n",
      "2            5.022553         1                  1               1         0   \n",
      "3            2.300159         1                  0               1         1   \n",
      "4            3.067944         1                  1               1         0   \n",
      "...               ...       ...                ...             ...       ...   \n",
      "2387         5.166032         0                  1               0         0   \n",
      "2388         5.509502         0                  0               0         1   \n",
      "2389         3.346877         1                  0               1         1   \n",
      "2390         1.713274         0                  1               1         0   \n",
      "2391         2.453284         1                  1               0         0   \n",
      "\n",
      "      NighttimeSymptoms  ExerciseInduced  Diagnosis  DoctorInCharge  \n",
      "0                     0                1          0       Dr_Confid  \n",
      "1                     1                1          0       Dr_Confid  \n",
      "2                     1                1          0       Dr_Confid  \n",
      "3                     1                0          0       Dr_Confid  \n",
      "4                     0                1          0       Dr_Confid  \n",
      "...                 ...              ...        ...             ...  \n",
      "2387                  0                1          1       Dr_Confid  \n",
      "2388                  1                0          1       Dr_Confid  \n",
      "2389                  0                1          1       Dr_Confid  \n",
      "2390                  1                1          0       Dr_Confid  \n",
      "2391                  1                0          0       Dr_Confid  \n",
      "\n",
      "[2392 rows x 29 columns]\n"
     ]
    }
   ],
   "source": [
    "df = pd.read_csv(\"D:/DataScience/Project/asthma_disease_data.csv\")\n",
    "print (df)"
   ]
  },
  {
   "cell_type": "markdown",
   "metadata": {},
   "source": [
    "STEP 3 : Data Structure"
   ]
  },
  {
   "cell_type": "code",
   "execution_count": 73,
   "metadata": {},
   "outputs": [
    {
     "data": {
      "text/plain": [
       "(2392, 29)"
      ]
     },
     "execution_count": 73,
     "metadata": {},
     "output_type": "execute_result"
    }
   ],
   "source": [
    "# shape: shape will show how many features (columns) and observations (rows) there are in the dataset\n",
    "df.shape"
   ]
  },
  {
   "cell_type": "code",
   "execution_count": 74,
   "metadata": {},
   "outputs": [
    {
     "name": "stdout",
     "output_type": "stream",
     "text": [
      "<class 'pandas.core.frame.DataFrame'>\n",
      "RangeIndex: 2392 entries, 0 to 2391\n",
      "Data columns (total 29 columns):\n",
      " #   Column                  Non-Null Count  Dtype  \n",
      "---  ------                  --------------  -----  \n",
      " 0   PatientID               2392 non-null   int64  \n",
      " 1   Age                     2392 non-null   int64  \n",
      " 2   Gender                  2392 non-null   int64  \n",
      " 3   Ethnicity               2392 non-null   int64  \n",
      " 4   EducationLevel          2392 non-null   int64  \n",
      " 5   BMI                     2392 non-null   float64\n",
      " 6   Smoking                 2392 non-null   int64  \n",
      " 7   PhysicalActivity        2392 non-null   float64\n",
      " 8   DietQuality             2392 non-null   float64\n",
      " 9   SleepQuality            2392 non-null   float64\n",
      " 10  PollutionExposure       2392 non-null   float64\n",
      " 11  PollenExposure          2392 non-null   float64\n",
      " 12  DustExposure            2392 non-null   float64\n",
      " 13  PetAllergy              2392 non-null   int64  \n",
      " 14  FamilyHistoryAsthma     2392 non-null   int64  \n",
      " 15  HistoryOfAllergies      2392 non-null   int64  \n",
      " 16  Eczema                  2392 non-null   int64  \n",
      " 17  HayFever                2392 non-null   int64  \n",
      " 18  GastroesophagealReflux  2392 non-null   int64  \n",
      " 19  LungFunctionFEV1        2392 non-null   float64\n",
      " 20  LungFunctionFVC         2392 non-null   float64\n",
      " 21  Wheezing                2392 non-null   int64  \n",
      " 22  ShortnessOfBreath       2392 non-null   int64  \n",
      " 23  ChestTightness          2392 non-null   int64  \n",
      " 24  Coughing                2392 non-null   int64  \n",
      " 25  NighttimeSymptoms       2392 non-null   int64  \n",
      " 26  ExerciseInduced         2392 non-null   int64  \n",
      " 27  Diagnosis               2392 non-null   int64  \n",
      " 28  DoctorInCharge          2392 non-null   object \n",
      "dtypes: float64(9), int64(19), object(1)\n",
      "memory usage: 542.1+ KB\n"
     ]
    }
   ],
   "source": [
    "#A quick and informative overview of the dataset.\n",
    "df.info()"
   ]
  },
  {
   "cell_type": "code",
   "execution_count": 75,
   "metadata": {},
   "outputs": [
    {
     "data": {
      "text/plain": [
       "PatientID                  int64\n",
       "Age                        int64\n",
       "Gender                     int64\n",
       "Ethnicity                  int64\n",
       "EducationLevel             int64\n",
       "BMI                        int32\n",
       "Smoking                    int64\n",
       "PhysicalActivity           int32\n",
       "DietQuality                int32\n",
       "SleepQuality               int32\n",
       "PollutionExposure          int32\n",
       "PollenExposure             int32\n",
       "DustExposure               int32\n",
       "PetAllergy                 int64\n",
       "FamilyHistoryAsthma        int64\n",
       "HistoryOfAllergies         int64\n",
       "Eczema                     int64\n",
       "HayFever                   int64\n",
       "GastroesophagealReflux     int64\n",
       "LungFunctionFEV1           int32\n",
       "LungFunctionFVC            int32\n",
       "Wheezing                   int64\n",
       "ShortnessOfBreath          int64\n",
       "ChestTightness             int64\n",
       "Coughing                   int64\n",
       "NighttimeSymptoms          int64\n",
       "ExerciseInduced            int64\n",
       "Diagnosis                  int64\n",
       "DoctorInCharge            object\n",
       "dtype: object"
      ]
     },
     "execution_count": 75,
     "metadata": {},
     "output_type": "execute_result"
    }
   ],
   "source": [
    "# Convert float columns to int\n",
    "float_cols = df.select_dtypes(include=['float64']).columns\n",
    "df[float_cols] = df[float_cols].astype(int)\n",
    "\n",
    "# Verify the conversion\n",
    "df.dtypes\n"
   ]
  },
  {
   "cell_type": "code",
   "execution_count": 76,
   "metadata": {},
   "outputs": [
    {
     "data": {
      "text/plain": [
       "Index(['PatientID', 'Age', 'Gender', 'Ethnicity', 'EducationLevel', 'BMI',\n",
       "       'Smoking', 'PhysicalActivity', 'DietQuality', 'SleepQuality',\n",
       "       'PollutionExposure', 'PollenExposure', 'DustExposure', 'PetAllergy',\n",
       "       'FamilyHistoryAsthma', 'HistoryOfAllergies', 'Eczema', 'HayFever',\n",
       "       'GastroesophagealReflux', 'LungFunctionFEV1', 'LungFunctionFVC',\n",
       "       'Wheezing', 'ShortnessOfBreath', 'ChestTightness', 'Coughing',\n",
       "       'NighttimeSymptoms', 'ExerciseInduced', 'Diagnosis', 'DoctorInCharge'],\n",
       "      dtype='object')"
      ]
     },
     "execution_count": 76,
     "metadata": {},
     "output_type": "execute_result"
    }
   ],
   "source": [
    "df.columns"
   ]
  },
  {
   "cell_type": "code",
   "execution_count": 77,
   "metadata": {},
   "outputs": [
    {
     "data": {
      "text/html": [
       "<div>\n",
       "<style scoped>\n",
       "    .dataframe tbody tr th:only-of-type {\n",
       "        vertical-align: middle;\n",
       "    }\n",
       "\n",
       "    .dataframe tbody tr th {\n",
       "        vertical-align: top;\n",
       "    }\n",
       "\n",
       "    .dataframe thead th {\n",
       "        text-align: right;\n",
       "    }\n",
       "</style>\n",
       "<table border=\"1\" class=\"dataframe\">\n",
       "  <thead>\n",
       "    <tr style=\"text-align: right;\">\n",
       "      <th></th>\n",
       "      <th>PatientID</th>\n",
       "      <th>Age</th>\n",
       "      <th>Gender</th>\n",
       "      <th>Ethnicity</th>\n",
       "      <th>EducationLevel</th>\n",
       "      <th>BMI</th>\n",
       "      <th>Smoking</th>\n",
       "      <th>PhysicalActivity</th>\n",
       "      <th>DietQuality</th>\n",
       "      <th>SleepQuality</th>\n",
       "      <th>...</th>\n",
       "      <th>LungFunctionFEV1</th>\n",
       "      <th>LungFunctionFVC</th>\n",
       "      <th>Wheezing</th>\n",
       "      <th>ShortnessOfBreath</th>\n",
       "      <th>ChestTightness</th>\n",
       "      <th>Coughing</th>\n",
       "      <th>NighttimeSymptoms</th>\n",
       "      <th>ExerciseInduced</th>\n",
       "      <th>Diagnosis</th>\n",
       "      <th>DoctorInCharge</th>\n",
       "    </tr>\n",
       "  </thead>\n",
       "  <tbody>\n",
       "    <tr>\n",
       "      <th>count</th>\n",
       "      <td>2392.000000</td>\n",
       "      <td>2392.000000</td>\n",
       "      <td>2392.000000</td>\n",
       "      <td>2392.000000</td>\n",
       "      <td>2392.000000</td>\n",
       "      <td>2392.000000</td>\n",
       "      <td>2392.000000</td>\n",
       "      <td>2392.000000</td>\n",
       "      <td>2392.000000</td>\n",
       "      <td>2392.000000</td>\n",
       "      <td>...</td>\n",
       "      <td>2392.000000</td>\n",
       "      <td>2392.000000</td>\n",
       "      <td>2392.000000</td>\n",
       "      <td>2392.000000</td>\n",
       "      <td>2392.000000</td>\n",
       "      <td>2392.000000</td>\n",
       "      <td>2392.000000</td>\n",
       "      <td>2392.000000</td>\n",
       "      <td>2392.000000</td>\n",
       "      <td>2392</td>\n",
       "    </tr>\n",
       "    <tr>\n",
       "      <th>unique</th>\n",
       "      <td>NaN</td>\n",
       "      <td>NaN</td>\n",
       "      <td>NaN</td>\n",
       "      <td>NaN</td>\n",
       "      <td>NaN</td>\n",
       "      <td>NaN</td>\n",
       "      <td>NaN</td>\n",
       "      <td>NaN</td>\n",
       "      <td>NaN</td>\n",
       "      <td>NaN</td>\n",
       "      <td>...</td>\n",
       "      <td>NaN</td>\n",
       "      <td>NaN</td>\n",
       "      <td>NaN</td>\n",
       "      <td>NaN</td>\n",
       "      <td>NaN</td>\n",
       "      <td>NaN</td>\n",
       "      <td>NaN</td>\n",
       "      <td>NaN</td>\n",
       "      <td>NaN</td>\n",
       "      <td>1</td>\n",
       "    </tr>\n",
       "    <tr>\n",
       "      <th>top</th>\n",
       "      <td>NaN</td>\n",
       "      <td>NaN</td>\n",
       "      <td>NaN</td>\n",
       "      <td>NaN</td>\n",
       "      <td>NaN</td>\n",
       "      <td>NaN</td>\n",
       "      <td>NaN</td>\n",
       "      <td>NaN</td>\n",
       "      <td>NaN</td>\n",
       "      <td>NaN</td>\n",
       "      <td>...</td>\n",
       "      <td>NaN</td>\n",
       "      <td>NaN</td>\n",
       "      <td>NaN</td>\n",
       "      <td>NaN</td>\n",
       "      <td>NaN</td>\n",
       "      <td>NaN</td>\n",
       "      <td>NaN</td>\n",
       "      <td>NaN</td>\n",
       "      <td>NaN</td>\n",
       "      <td>Dr_Confid</td>\n",
       "    </tr>\n",
       "    <tr>\n",
       "      <th>freq</th>\n",
       "      <td>NaN</td>\n",
       "      <td>NaN</td>\n",
       "      <td>NaN</td>\n",
       "      <td>NaN</td>\n",
       "      <td>NaN</td>\n",
       "      <td>NaN</td>\n",
       "      <td>NaN</td>\n",
       "      <td>NaN</td>\n",
       "      <td>NaN</td>\n",
       "      <td>NaN</td>\n",
       "      <td>...</td>\n",
       "      <td>NaN</td>\n",
       "      <td>NaN</td>\n",
       "      <td>NaN</td>\n",
       "      <td>NaN</td>\n",
       "      <td>NaN</td>\n",
       "      <td>NaN</td>\n",
       "      <td>NaN</td>\n",
       "      <td>NaN</td>\n",
       "      <td>NaN</td>\n",
       "      <td>2392</td>\n",
       "    </tr>\n",
       "    <tr>\n",
       "      <th>mean</th>\n",
       "      <td>6229.500000</td>\n",
       "      <td>42.137960</td>\n",
       "      <td>0.493311</td>\n",
       "      <td>0.669732</td>\n",
       "      <td>1.307274</td>\n",
       "      <td>26.747074</td>\n",
       "      <td>0.141722</td>\n",
       "      <td>4.558946</td>\n",
       "      <td>4.530518</td>\n",
       "      <td>6.506689</td>\n",
       "      <td>...</td>\n",
       "      <td>2.051839</td>\n",
       "      <td>3.213211</td>\n",
       "      <td>0.596154</td>\n",
       "      <td>0.500418</td>\n",
       "      <td>0.503344</td>\n",
       "      <td>0.503344</td>\n",
       "      <td>0.602425</td>\n",
       "      <td>0.604933</td>\n",
       "      <td>0.051839</td>\n",
       "      <td>NaN</td>\n",
       "    </tr>\n",
       "    <tr>\n",
       "      <th>std</th>\n",
       "      <td>690.655244</td>\n",
       "      <td>21.606655</td>\n",
       "      <td>0.500060</td>\n",
       "      <td>0.986120</td>\n",
       "      <td>0.898242</td>\n",
       "      <td>7.195716</td>\n",
       "      <td>0.348838</td>\n",
       "      <td>2.885932</td>\n",
       "      <td>2.887242</td>\n",
       "      <td>1.719071</td>\n",
       "      <td>...</td>\n",
       "      <td>0.810216</td>\n",
       "      <td>1.318603</td>\n",
       "      <td>0.490770</td>\n",
       "      <td>0.500104</td>\n",
       "      <td>0.500093</td>\n",
       "      <td>0.500093</td>\n",
       "      <td>0.489499</td>\n",
       "      <td>0.488967</td>\n",
       "      <td>0.221749</td>\n",
       "      <td>NaN</td>\n",
       "    </tr>\n",
       "    <tr>\n",
       "      <th>min</th>\n",
       "      <td>5034.000000</td>\n",
       "      <td>5.000000</td>\n",
       "      <td>0.000000</td>\n",
       "      <td>0.000000</td>\n",
       "      <td>0.000000</td>\n",
       "      <td>15.000000</td>\n",
       "      <td>0.000000</td>\n",
       "      <td>0.000000</td>\n",
       "      <td>0.000000</td>\n",
       "      <td>4.000000</td>\n",
       "      <td>...</td>\n",
       "      <td>1.000000</td>\n",
       "      <td>1.000000</td>\n",
       "      <td>0.000000</td>\n",
       "      <td>0.000000</td>\n",
       "      <td>0.000000</td>\n",
       "      <td>0.000000</td>\n",
       "      <td>0.000000</td>\n",
       "      <td>0.000000</td>\n",
       "      <td>0.000000</td>\n",
       "      <td>NaN</td>\n",
       "    </tr>\n",
       "    <tr>\n",
       "      <th>25%</th>\n",
       "      <td>5631.750000</td>\n",
       "      <td>23.000000</td>\n",
       "      <td>0.000000</td>\n",
       "      <td>0.000000</td>\n",
       "      <td>1.000000</td>\n",
       "      <td>20.000000</td>\n",
       "      <td>0.000000</td>\n",
       "      <td>2.000000</td>\n",
       "      <td>2.000000</td>\n",
       "      <td>5.000000</td>\n",
       "      <td>...</td>\n",
       "      <td>1.000000</td>\n",
       "      <td>2.000000</td>\n",
       "      <td>0.000000</td>\n",
       "      <td>0.000000</td>\n",
       "      <td>0.000000</td>\n",
       "      <td>0.000000</td>\n",
       "      <td>0.000000</td>\n",
       "      <td>0.000000</td>\n",
       "      <td>0.000000</td>\n",
       "      <td>NaN</td>\n",
       "    </tr>\n",
       "    <tr>\n",
       "      <th>50%</th>\n",
       "      <td>6229.500000</td>\n",
       "      <td>42.000000</td>\n",
       "      <td>0.000000</td>\n",
       "      <td>0.000000</td>\n",
       "      <td>1.000000</td>\n",
       "      <td>27.000000</td>\n",
       "      <td>0.000000</td>\n",
       "      <td>5.000000</td>\n",
       "      <td>5.000000</td>\n",
       "      <td>6.000000</td>\n",
       "      <td>...</td>\n",
       "      <td>2.000000</td>\n",
       "      <td>3.000000</td>\n",
       "      <td>1.000000</td>\n",
       "      <td>1.000000</td>\n",
       "      <td>1.000000</td>\n",
       "      <td>1.000000</td>\n",
       "      <td>1.000000</td>\n",
       "      <td>1.000000</td>\n",
       "      <td>0.000000</td>\n",
       "      <td>NaN</td>\n",
       "    </tr>\n",
       "    <tr>\n",
       "      <th>75%</th>\n",
       "      <td>6827.250000</td>\n",
       "      <td>61.000000</td>\n",
       "      <td>1.000000</td>\n",
       "      <td>1.000000</td>\n",
       "      <td>2.000000</td>\n",
       "      <td>33.000000</td>\n",
       "      <td>0.000000</td>\n",
       "      <td>7.000000</td>\n",
       "      <td>7.000000</td>\n",
       "      <td>8.000000</td>\n",
       "      <td>...</td>\n",
       "      <td>3.000000</td>\n",
       "      <td>4.000000</td>\n",
       "      <td>1.000000</td>\n",
       "      <td>1.000000</td>\n",
       "      <td>1.000000</td>\n",
       "      <td>1.000000</td>\n",
       "      <td>1.000000</td>\n",
       "      <td>1.000000</td>\n",
       "      <td>0.000000</td>\n",
       "      <td>NaN</td>\n",
       "    </tr>\n",
       "    <tr>\n",
       "      <th>max</th>\n",
       "      <td>7425.000000</td>\n",
       "      <td>79.000000</td>\n",
       "      <td>1.000000</td>\n",
       "      <td>3.000000</td>\n",
       "      <td>3.000000</td>\n",
       "      <td>39.000000</td>\n",
       "      <td>1.000000</td>\n",
       "      <td>9.000000</td>\n",
       "      <td>9.000000</td>\n",
       "      <td>9.000000</td>\n",
       "      <td>...</td>\n",
       "      <td>3.000000</td>\n",
       "      <td>5.000000</td>\n",
       "      <td>1.000000</td>\n",
       "      <td>1.000000</td>\n",
       "      <td>1.000000</td>\n",
       "      <td>1.000000</td>\n",
       "      <td>1.000000</td>\n",
       "      <td>1.000000</td>\n",
       "      <td>1.000000</td>\n",
       "      <td>NaN</td>\n",
       "    </tr>\n",
       "  </tbody>\n",
       "</table>\n",
       "<p>11 rows × 29 columns</p>\n",
       "</div>"
      ],
      "text/plain": [
       "          PatientID          Age       Gender    Ethnicity  EducationLevel  \\\n",
       "count   2392.000000  2392.000000  2392.000000  2392.000000     2392.000000   \n",
       "unique          NaN          NaN          NaN          NaN             NaN   \n",
       "top             NaN          NaN          NaN          NaN             NaN   \n",
       "freq            NaN          NaN          NaN          NaN             NaN   \n",
       "mean    6229.500000    42.137960     0.493311     0.669732        1.307274   \n",
       "std      690.655244    21.606655     0.500060     0.986120        0.898242   \n",
       "min     5034.000000     5.000000     0.000000     0.000000        0.000000   \n",
       "25%     5631.750000    23.000000     0.000000     0.000000        1.000000   \n",
       "50%     6229.500000    42.000000     0.000000     0.000000        1.000000   \n",
       "75%     6827.250000    61.000000     1.000000     1.000000        2.000000   \n",
       "max     7425.000000    79.000000     1.000000     3.000000        3.000000   \n",
       "\n",
       "                BMI      Smoking  PhysicalActivity  DietQuality  SleepQuality  \\\n",
       "count   2392.000000  2392.000000       2392.000000  2392.000000   2392.000000   \n",
       "unique          NaN          NaN               NaN          NaN           NaN   \n",
       "top             NaN          NaN               NaN          NaN           NaN   \n",
       "freq            NaN          NaN               NaN          NaN           NaN   \n",
       "mean      26.747074     0.141722          4.558946     4.530518      6.506689   \n",
       "std        7.195716     0.348838          2.885932     2.887242      1.719071   \n",
       "min       15.000000     0.000000          0.000000     0.000000      4.000000   \n",
       "25%       20.000000     0.000000          2.000000     2.000000      5.000000   \n",
       "50%       27.000000     0.000000          5.000000     5.000000      6.000000   \n",
       "75%       33.000000     0.000000          7.000000     7.000000      8.000000   \n",
       "max       39.000000     1.000000          9.000000     9.000000      9.000000   \n",
       "\n",
       "        ...  LungFunctionFEV1  LungFunctionFVC     Wheezing  \\\n",
       "count   ...       2392.000000      2392.000000  2392.000000   \n",
       "unique  ...               NaN              NaN          NaN   \n",
       "top     ...               NaN              NaN          NaN   \n",
       "freq    ...               NaN              NaN          NaN   \n",
       "mean    ...          2.051839         3.213211     0.596154   \n",
       "std     ...          0.810216         1.318603     0.490770   \n",
       "min     ...          1.000000         1.000000     0.000000   \n",
       "25%     ...          1.000000         2.000000     0.000000   \n",
       "50%     ...          2.000000         3.000000     1.000000   \n",
       "75%     ...          3.000000         4.000000     1.000000   \n",
       "max     ...          3.000000         5.000000     1.000000   \n",
       "\n",
       "        ShortnessOfBreath  ChestTightness     Coughing  NighttimeSymptoms  \\\n",
       "count         2392.000000     2392.000000  2392.000000        2392.000000   \n",
       "unique                NaN             NaN          NaN                NaN   \n",
       "top                   NaN             NaN          NaN                NaN   \n",
       "freq                  NaN             NaN          NaN                NaN   \n",
       "mean             0.500418        0.503344     0.503344           0.602425   \n",
       "std              0.500104        0.500093     0.500093           0.489499   \n",
       "min              0.000000        0.000000     0.000000           0.000000   \n",
       "25%              0.000000        0.000000     0.000000           0.000000   \n",
       "50%              1.000000        1.000000     1.000000           1.000000   \n",
       "75%              1.000000        1.000000     1.000000           1.000000   \n",
       "max              1.000000        1.000000     1.000000           1.000000   \n",
       "\n",
       "        ExerciseInduced    Diagnosis  DoctorInCharge  \n",
       "count       2392.000000  2392.000000            2392  \n",
       "unique              NaN          NaN               1  \n",
       "top                 NaN          NaN       Dr_Confid  \n",
       "freq                NaN          NaN            2392  \n",
       "mean           0.604933     0.051839             NaN  \n",
       "std            0.488967     0.221749             NaN  \n",
       "min            0.000000     0.000000             NaN  \n",
       "25%            0.000000     0.000000             NaN  \n",
       "50%            1.000000     0.000000             NaN  \n",
       "75%            1.000000     0.000000             NaN  \n",
       "max            1.000000     1.000000             NaN  \n",
       "\n",
       "[11 rows x 29 columns]"
      ]
     },
     "execution_count": 77,
     "metadata": {},
     "output_type": "execute_result"
    }
   ],
   "source": [
    "# Generate descriptive statistics of DataFrame columns\n",
    "df.describe(include='all')"
   ]
  },
  {
   "cell_type": "code",
   "execution_count": 78,
   "metadata": {},
   "outputs": [
    {
     "data": {
      "text/plain": [
       "PatientID                  int64\n",
       "Age                        int64\n",
       "Gender                     int64\n",
       "Ethnicity                  int64\n",
       "EducationLevel             int64\n",
       "BMI                        int32\n",
       "Smoking                    int64\n",
       "PhysicalActivity           int32\n",
       "DietQuality                int32\n",
       "SleepQuality               int32\n",
       "PollutionExposure          int32\n",
       "PollenExposure             int32\n",
       "DustExposure               int32\n",
       "PetAllergy                 int64\n",
       "FamilyHistoryAsthma        int64\n",
       "HistoryOfAllergies         int64\n",
       "Eczema                     int64\n",
       "HayFever                   int64\n",
       "GastroesophagealReflux     int64\n",
       "LungFunctionFEV1           int32\n",
       "LungFunctionFVC            int32\n",
       "Wheezing                   int64\n",
       "ShortnessOfBreath          int64\n",
       "ChestTightness             int64\n",
       "Coughing                   int64\n",
       "NighttimeSymptoms          int64\n",
       "ExerciseInduced            int64\n",
       "Diagnosis                  int64\n",
       "DoctorInCharge            object\n",
       "dtype: object"
      ]
     },
     "execution_count": 78,
     "metadata": {},
     "output_type": "execute_result"
    }
   ],
   "source": [
    "#  Show the Data type of each column\n",
    "df.dtypes"
   ]
  },
  {
   "cell_type": "markdown",
   "metadata": {},
   "source": [
    "STEP 4: Data Cleaning and Preprocessing"
   ]
  },
  {
   "cell_type": "code",
   "execution_count": 79,
   "metadata": {},
   "outputs": [
    {
     "data": {
      "text/plain": [
       "PatientID                 0\n",
       "Age                       0\n",
       "Gender                    0\n",
       "Ethnicity                 0\n",
       "EducationLevel            0\n",
       "BMI                       0\n",
       "Smoking                   0\n",
       "PhysicalActivity          0\n",
       "DietQuality               0\n",
       "SleepQuality              0\n",
       "PollutionExposure         0\n",
       "PollenExposure            0\n",
       "DustExposure              0\n",
       "PetAllergy                0\n",
       "FamilyHistoryAsthma       0\n",
       "HistoryOfAllergies        0\n",
       "Eczema                    0\n",
       "HayFever                  0\n",
       "GastroesophagealReflux    0\n",
       "LungFunctionFEV1          0\n",
       "LungFunctionFVC           0\n",
       "Wheezing                  0\n",
       "ShortnessOfBreath         0\n",
       "ChestTightness            0\n",
       "Coughing                  0\n",
       "NighttimeSymptoms         0\n",
       "ExerciseInduced           0\n",
       "Diagnosis                 0\n",
       "DoctorInCharge            0\n",
       "dtype: int64"
      ]
     },
     "execution_count": 79,
     "metadata": {},
     "output_type": "execute_result"
    }
   ],
   "source": [
    "df.isnull().sum()"
   ]
  },
  {
   "cell_type": "code",
   "execution_count": 80,
   "metadata": {},
   "outputs": [],
   "source": [
    "df = df.drop(columns=['PatientID', 'DoctorInCharge'])"
   ]
  },
  {
   "cell_type": "code",
   "execution_count": 81,
   "metadata": {},
   "outputs": [
    {
     "data": {
      "text/plain": [
       "Index(['Age', 'Gender', 'Ethnicity', 'EducationLevel', 'BMI', 'Smoking',\n",
       "       'PhysicalActivity', 'DietQuality', 'SleepQuality', 'PollutionExposure',\n",
       "       'PollenExposure', 'DustExposure', 'PetAllergy', 'FamilyHistoryAsthma',\n",
       "       'HistoryOfAllergies', 'Eczema', 'HayFever', 'GastroesophagealReflux',\n",
       "       'LungFunctionFEV1', 'LungFunctionFVC', 'Wheezing', 'ShortnessOfBreath',\n",
       "       'ChestTightness', 'Coughing', 'NighttimeSymptoms', 'ExerciseInduced',\n",
       "       'Diagnosis'],\n",
       "      dtype='object')"
      ]
     },
     "execution_count": 81,
     "metadata": {},
     "output_type": "execute_result"
    }
   ],
   "source": [
    "df.columns"
   ]
  },
  {
   "cell_type": "code",
   "execution_count": 82,
   "metadata": {},
   "outputs": [
    {
     "data": {
      "text/html": [
       "<div>\n",
       "<style scoped>\n",
       "    .dataframe tbody tr th:only-of-type {\n",
       "        vertical-align: middle;\n",
       "    }\n",
       "\n",
       "    .dataframe tbody tr th {\n",
       "        vertical-align: top;\n",
       "    }\n",
       "\n",
       "    .dataframe thead th {\n",
       "        text-align: right;\n",
       "    }\n",
       "</style>\n",
       "<table border=\"1\" class=\"dataframe\">\n",
       "  <thead>\n",
       "    <tr style=\"text-align: right;\">\n",
       "      <th></th>\n",
       "      <th>Age</th>\n",
       "      <th>Gender</th>\n",
       "      <th>Ethnicity</th>\n",
       "      <th>EducationLevel</th>\n",
       "      <th>BMI</th>\n",
       "      <th>Smoking</th>\n",
       "      <th>PhysicalActivity</th>\n",
       "      <th>DietQuality</th>\n",
       "      <th>SleepQuality</th>\n",
       "      <th>PollutionExposure</th>\n",
       "      <th>...</th>\n",
       "      <th>GastroesophagealReflux</th>\n",
       "      <th>LungFunctionFEV1</th>\n",
       "      <th>LungFunctionFVC</th>\n",
       "      <th>Wheezing</th>\n",
       "      <th>ShortnessOfBreath</th>\n",
       "      <th>ChestTightness</th>\n",
       "      <th>Coughing</th>\n",
       "      <th>NighttimeSymptoms</th>\n",
       "      <th>ExerciseInduced</th>\n",
       "      <th>Diagnosis</th>\n",
       "    </tr>\n",
       "  </thead>\n",
       "  <tbody>\n",
       "    <tr>\n",
       "      <th>0</th>\n",
       "      <td>63</td>\n",
       "      <td>0</td>\n",
       "      <td>1</td>\n",
       "      <td>0</td>\n",
       "      <td>15</td>\n",
       "      <td>0</td>\n",
       "      <td>0</td>\n",
       "      <td>5</td>\n",
       "      <td>8</td>\n",
       "      <td>7</td>\n",
       "      <td>...</td>\n",
       "      <td>0</td>\n",
       "      <td>1</td>\n",
       "      <td>4</td>\n",
       "      <td>0</td>\n",
       "      <td>0</td>\n",
       "      <td>1</td>\n",
       "      <td>0</td>\n",
       "      <td>0</td>\n",
       "      <td>1</td>\n",
       "      <td>0</td>\n",
       "    </tr>\n",
       "    <tr>\n",
       "      <th>1</th>\n",
       "      <td>26</td>\n",
       "      <td>1</td>\n",
       "      <td>2</td>\n",
       "      <td>2</td>\n",
       "      <td>22</td>\n",
       "      <td>0</td>\n",
       "      <td>5</td>\n",
       "      <td>6</td>\n",
       "      <td>5</td>\n",
       "      <td>1</td>\n",
       "      <td>...</td>\n",
       "      <td>0</td>\n",
       "      <td>2</td>\n",
       "      <td>1</td>\n",
       "      <td>1</td>\n",
       "      <td>0</td>\n",
       "      <td>0</td>\n",
       "      <td>1</td>\n",
       "      <td>1</td>\n",
       "      <td>1</td>\n",
       "      <td>0</td>\n",
       "    </tr>\n",
       "    <tr>\n",
       "      <th>2</th>\n",
       "      <td>57</td>\n",
       "      <td>0</td>\n",
       "      <td>2</td>\n",
       "      <td>1</td>\n",
       "      <td>18</td>\n",
       "      <td>0</td>\n",
       "      <td>6</td>\n",
       "      <td>9</td>\n",
       "      <td>6</td>\n",
       "      <td>1</td>\n",
       "      <td>...</td>\n",
       "      <td>0</td>\n",
       "      <td>1</td>\n",
       "      <td>5</td>\n",
       "      <td>1</td>\n",
       "      <td>1</td>\n",
       "      <td>1</td>\n",
       "      <td>0</td>\n",
       "      <td>1</td>\n",
       "      <td>1</td>\n",
       "      <td>0</td>\n",
       "    </tr>\n",
       "    <tr>\n",
       "      <th>3</th>\n",
       "      <td>40</td>\n",
       "      <td>1</td>\n",
       "      <td>2</td>\n",
       "      <td>1</td>\n",
       "      <td>38</td>\n",
       "      <td>0</td>\n",
       "      <td>1</td>\n",
       "      <td>5</td>\n",
       "      <td>4</td>\n",
       "      <td>0</td>\n",
       "      <td>...</td>\n",
       "      <td>0</td>\n",
       "      <td>3</td>\n",
       "      <td>2</td>\n",
       "      <td>1</td>\n",
       "      <td>0</td>\n",
       "      <td>1</td>\n",
       "      <td>1</td>\n",
       "      <td>1</td>\n",
       "      <td>0</td>\n",
       "      <td>0</td>\n",
       "    </tr>\n",
       "    <tr>\n",
       "      <th>4</th>\n",
       "      <td>61</td>\n",
       "      <td>0</td>\n",
       "      <td>0</td>\n",
       "      <td>3</td>\n",
       "      <td>19</td>\n",
       "      <td>0</td>\n",
       "      <td>4</td>\n",
       "      <td>3</td>\n",
       "      <td>9</td>\n",
       "      <td>0</td>\n",
       "      <td>...</td>\n",
       "      <td>0</td>\n",
       "      <td>3</td>\n",
       "      <td>3</td>\n",
       "      <td>1</td>\n",
       "      <td>1</td>\n",
       "      <td>1</td>\n",
       "      <td>0</td>\n",
       "      <td>0</td>\n",
       "      <td>1</td>\n",
       "      <td>0</td>\n",
       "    </tr>\n",
       "  </tbody>\n",
       "</table>\n",
       "<p>5 rows × 27 columns</p>\n",
       "</div>"
      ],
      "text/plain": [
       "   Age  Gender  Ethnicity  EducationLevel  BMI  Smoking  PhysicalActivity  \\\n",
       "0   63       0          1               0   15        0                 0   \n",
       "1   26       1          2               2   22        0                 5   \n",
       "2   57       0          2               1   18        0                 6   \n",
       "3   40       1          2               1   38        0                 1   \n",
       "4   61       0          0               3   19        0                 4   \n",
       "\n",
       "   DietQuality  SleepQuality  PollutionExposure  ...  GastroesophagealReflux  \\\n",
       "0            5             8                  7  ...                       0   \n",
       "1            6             5                  1  ...                       0   \n",
       "2            9             6                  1  ...                       0   \n",
       "3            5             4                  0  ...                       0   \n",
       "4            3             9                  0  ...                       0   \n",
       "\n",
       "   LungFunctionFEV1  LungFunctionFVC  Wheezing  ShortnessOfBreath  \\\n",
       "0                 1                4         0                  0   \n",
       "1                 2                1         1                  0   \n",
       "2                 1                5         1                  1   \n",
       "3                 3                2         1                  0   \n",
       "4                 3                3         1                  1   \n",
       "\n",
       "   ChestTightness  Coughing  NighttimeSymptoms  ExerciseInduced  Diagnosis  \n",
       "0               1         0                  0                1          0  \n",
       "1               0         1                  1                1          0  \n",
       "2               1         0                  1                1          0  \n",
       "3               1         1                  1                0          0  \n",
       "4               1         0                  0                1          0  \n",
       "\n",
       "[5 rows x 27 columns]"
      ]
     },
     "execution_count": 82,
     "metadata": {},
     "output_type": "execute_result"
    }
   ],
   "source": [
    "# Diaplay the first 5 rows of the dataframe\n",
    "df.head()"
   ]
  },
  {
   "cell_type": "markdown",
   "metadata": {},
   "source": [
    "STEP  6: Visualizing Distributions"
   ]
  },
  {
   "cell_type": "markdown",
   "metadata": {},
   "source": [
    "Q1: What is the age distribution of patients?"
   ]
  },
  {
   "cell_type": "code",
   "execution_count": 83,
   "metadata": {},
   "outputs": [
    {
     "name": "stderr",
     "output_type": "stream",
     "text": [
      "C:\\Users\\sitha\\AppData\\Local\\Temp\\ipykernel_16380\\3408356423.py:11: FutureWarning: \n",
      "\n",
      "Passing `palette` without assigning `hue` is deprecated and will be removed in v0.14.0. Assign the `x` variable to `hue` and set `legend=False` for the same effect.\n",
      "\n",
      "  sns.barplot(x=age_counts.index, y=age_counts.values, palette=\"Set2\")\n"
     ]
    },
    {
     "data": {
      "image/png": "[encoded data removed]",
      "text/plain": [
       "<Figure size 800x500 with 1 Axes>"
      ]
     },
     "metadata": {},
     "output_type": "display_data"
    }
   ],
   "source": [
    "\n",
    "\n",
    "# Create age groups (bins)\n",
    "age_bins = [0, 10, 20, 30, 40, 50, 60, 70, 80, 90, 100]\n",
    "age_labels = [\"0-10\", \"10-20\", \"20-30\", \"30-40\", \"40-50\", \"50-60\", \"60-70\", \"70-80\", \"80-90\", \"90-100\"]\n",
    "df[\"Age Group\"] = pd.cut(df[\"Age\"], bins=age_bins, labels=age_labels, right=False)\n",
    "\n",
    "# Count patients in each age group\n",
    "age_counts = df[\"Age Group\"].value_counts().sort_index()\n",
    "\n",
    "# Plot bar graph\n",
    "plt.figure(figsize=(8, 5))\n",
    "sns.barplot(x=age_counts.index, y=age_counts.values, palette=\"Set2\")\n",
    "plt.xlabel(\"Age Group\")\n",
    "plt.ylabel(\"Count\")\n",
    "plt.title(\"Age Distribution of Patients\")\n",
    "plt.xticks(rotation=45)\n",
    "plt.show()\n",
    "\n"
   ]
  },
  {
   "cell_type": "markdown",
   "metadata": {},
   "source": [
    "Gives a clearer view of how many patients fall into different age ranges."
   ]
  },
  {
   "cell_type": "markdown",
   "metadata": {},
   "source": [
    "How does asthma prevalence vary by gender? "
   ]
  },
  {
   "cell_type": "code",
   "execution_count": 84,
   "metadata": {},
   "outputs": [
    {
     "data": {
      "text/plain": [
       "<Figure size 1000x500 with 0 Axes>"
      ]
     },
     "metadata": {},
     "output_type": "display_data"
    },
    {
     "data": {
      "image/png": "[encoded data removed]",
      "text/plain": [
       "<Figure size 640x480 with 1 Axes>"
      ]
     },
     "metadata": {},
     "output_type": "display_data"
    }
   ],
   "source": [
    "\n",
    "asthma_counts = df.groupby(\"Gender\")[\"Diagnosis\"].value_counts().unstack()\n",
    "\n",
    "# Plot bar graph\n",
    "plt.figure(figsize=(10, 5))\n",
    "asthma_counts.plot(kind=\"bar\", colormap=\"viridis\", alpha=0.8)\n",
    "plt.xlabel(\"Gender\")\n",
    "plt.ylabel(\"Number of Cases\")\n",
    "plt.title(\"Asthma Cases by Ethnicity\")\n",
    "plt.legend([\"No Asthma\", \"Asthma\"], title=\"Condition\")\n",
    "plt.xticks(rotation=45)\n",
    "plt.show()\n"
   ]
  },
  {
   "cell_type": "markdown",
   "metadata": {},
   "source": [
    "This will show a stacked bar chart where each gender is split into Asthma vs. No Asthma.\n",
    "If one gender has a significantly higher asthma percentage, it suggests a possible biological or environmental factor.\n",
    "Further investigation could explore hormonal, genetic, or lifestyle differences affecting asthma rates."
   ]
  },
  {
   "cell_type": "markdown",
   "metadata": {},
   "source": [
    "Q3: Is there any relationship between ethnicity and asthma cases?"
   ]
  },
  {
   "cell_type": "code",
   "execution_count": 85,
   "metadata": {},
   "outputs": [
    {
     "data": {
      "text/plain": [
       "<Figure size 1000x500 with 0 Axes>"
      ]
     },
     "metadata": {},
     "output_type": "display_data"
    },
    {
     "data": {
      "image/png": "[encoded data removed]",
      "text/plain": [
       "<Figure size 640x480 with 1 Axes>"
      ]
     },
     "metadata": {},
     "output_type": "display_data"
    }
   ],
   "source": [
    "import matplotlib.pyplot as plt\n",
    "import seaborn as sns\n",
    "\n",
    "# Count asthma cases by ethnicity\n",
    "asthma_counts = df.groupby(\"Ethnicity\")[\"Diagnosis\"].value_counts().unstack()\n",
    "\n",
    "# Plot bar graph\n",
    "plt.figure(figsize=(10, 5))\n",
    "asthma_counts.plot(kind=\"bar\", colormap=\"viridis\", alpha=0.8)\n",
    "plt.xlabel(\"Ethnicity\")\n",
    "plt.ylabel(\"Number of Cases\")\n",
    "plt.title(\"Asthma Cases by Ethnicity\")\n",
    "plt.legend([\"No Asthma\", \"Asthma\"], title=\"Condition\")\n",
    "plt.xticks(rotation=45)\n",
    "plt.show()\n"
   ]
  },
  {
   "cell_type": "markdown",
   "metadata": {},
   "source": [
    "If certain ethnic groups have higher asthma prevalence, it could be linked to genetic, socioeconomic, or environmental factors."
   ]
  },
  {
   "cell_type": "markdown",
   "metadata": {},
   "source": [
    "Q4: What is the relationship between BMI (Body Mass Index) and asthma?"
   ]
  },
  {
   "cell_type": "code",
   "execution_count": 86,
   "metadata": {},
   "outputs": [
    {
     "name": "stderr",
     "output_type": "stream",
     "text": [
      "C:\\Users\\sitha\\AppData\\Local\\Temp\\ipykernel_16380\\266688668.py:7: FutureWarning: The default of observed=False is deprecated and will be changed to True in a future version of pandas. Pass observed=False to retain current behavior or observed=True to adopt the future default and silence this warning.\n",
      "  bmi_asthma_counts = df.groupby(\"BMI Category\")[\"Diagnosis\"].value_counts(normalize=True).unstack() * 100\n"
     ]
    },
    {
     "data": {
      "text/plain": [
       "<Figure size 800x500 with 0 Axes>"
      ]
     },
     "metadata": {},
     "output_type": "display_data"
    },
    {
     "data": {
      "image/png": "[encoded data removed]",
      "text/plain": [
       "<Figure size 640x480 with 1 Axes>"
      ]
     },
     "metadata": {},
     "output_type": "display_data"
    }
   ],
   "source": [
    "\n",
    "# Define BMI categories\n",
    "bmi_bins = [0, 18.5, 24.9, 29.9, 34.9, 39.9, 100]  # BMI ranges\n",
    "bmi_labels = [\"Underweight\", \"Normal\", \"Overweight\", \"Obese I\", \"Obese II\", \"Severely Obese\"]\n",
    "df[\"BMI Category\"] = pd.cut(df[\"BMI\"], bins=bmi_bins, labels=bmi_labels, right=False)\n",
    "\n",
    "# Count asthma cases per BMI category\n",
    "bmi_asthma_counts = df.groupby(\"BMI Category\")[\"Diagnosis\"].value_counts(normalize=True).unstack() * 100\n",
    "\n",
    "# Plot bar graph\n",
    "plt.figure(figsize=(8, 5))\n",
    "bmi_asthma_counts.plot(kind=\"bar\", colormap=\"coolwarm\", alpha=0.8)\n",
    "plt.xlabel(\"BMI Category\")\n",
    "plt.ylabel(\"Percentage (%)\")\n",
    "plt.title(\"Asthma Prevalence by BMI Category\")\n",
    "plt.legend([\"No Asthma\", \"Asthma\"], title=\"Condition\")\n",
    "plt.xticks(rotation=30)\n",
    "plt.show()\n"
   ]
  },
  {
   "cell_type": "markdown",
   "metadata": {},
   "source": [
    "If asthma patients have a higher median BMI, there could be a link between obesity and asthma risk.\n",
    "A wider BMI range among asthma patients may indicate different asthma phenotypes."
   ]
  },
  {
   "cell_type": "markdown",
   "metadata": {},
   "source": [
    "Q5: What are the common Causes for Asthma?"
   ]
  },
  {
   "cell_type": "code",
   "execution_count": 87,
   "metadata": {},
   "outputs": [
    {
     "data": {
      "image/png": "[encoded data removed]",
      "text/plain": [
       "<Figure size 800x500 with 1 Axes>"
      ]
     },
     "metadata": {},
     "output_type": "display_data"
    }
   ],
   "source": [
    "\n",
    "asthma_patients = df[df[\"Diagnosis\"] == 1]\n",
    "\n",
    "\n",
    "Causes = [\"Smoking\", \"PollutionExposure\", \"PollenExposure\", \"DustExposure\",\"PetAllergy\",\n",
    "\"FamilyHistoryAsthma\"]\n",
    "symptom_counts = asthma_patients[Causes].sum()\n",
    "\n",
    "# Plot bar graph\n",
    "plt.figure(figsize=(8, 5))\n",
    "symptom_counts.sort_values(ascending=False).plot(kind=\"bar\", color=\"skyblue\")\n",
    "plt.xlabel(\"Causes\")\n",
    "plt.ylabel(\"Number of Cases\")\n",
    "plt.title(\"Most Common Cause Among Asthma Patients\")\n",
    "plt.xticks(rotation=30)\n",
    "plt.show()\n"
   ]
  },
  {
   "cell_type": "markdown",
   "metadata": {},
   "source": [
    "Based on the analysis, the most common causes of asthma among patients are environmental factors such as pollen exposure, pollution, and dust exposure. These three factors contribute to the majority of asthma cases, indicating that air quality and allergens play a significant role in triggering asthma.\n",
    "\n",
    "While family history of asthma is a contributing factor, it appears less frequently than environmental causes. Pet allergies and smoking have minimal impact in this dataset, suggesting that they are not the primary triggers for most patients but may still influence asthma in some cases."
   ]
  },
  {
   "cell_type": "markdown",
   "metadata": {},
   "source": [
    "Q6. What are the most common symptoms among asthma patients?"
   ]
  },
  {
   "cell_type": "code",
   "execution_count": 88,
   "metadata": {},
   "outputs": [
    {
     "data": {
      "image/png": "[encoded data removed]",
      "text/plain": [
       "<Figure size 1200x300 with 1 Axes>"
      ]
     },
     "metadata": {},
     "output_type": "display_data"
    }
   ],
   "source": [
    "asthma_patients = df[df[\"Diagnosis\"] == 1]\n",
    "\n",
    "# Count symptom occurrences (adjust column names as per your dataset)\n",
    "symptom_cols = [\"Eczema\", \"HayFever\", \"GastroesophagealReflux\", \"LungFunctionFEV1\",\"LungFunctionFVC\",\"Wheezing\",\"ShortnessOfBreath\",\"ChestTightness\",\"Coughing\",\"NighttimeSymptoms\"]\n",
    "symptom_counts = asthma_patients[symptom_cols].sum()\n",
    "\n",
    "# Plot bar graph\n",
    "plt.figure(figsize=(12, 3))\n",
    "symptom_counts.sort_values(ascending=False).plot(kind=\"bar\", color=\"Red\")\n",
    "plt.xlabel(\"Symptoms\")\n",
    "plt.ylabel(\"Number of Cases\")\n",
    "plt.title(\"Most Common Symptoms Among Asthma Patients\")\n",
    "plt.xticks(rotation=30)\n",
    "plt.show()"
   ]
  },
  {
   "cell_type": "markdown",
   "metadata": {},
   "source": [
    "The most frequent symptoms among asthma patients are lung function impairments, specifically Lung Function FVC (Forced Vital Capacity) and Lung Function FEV1 (Forced Expiratory Volume in 1 second). These symptoms indicate that reduced lung function is a primary characteristic of asthma.\n",
    "Wheezing, shortness of breath, and nighttime symptoms, which are typical of asthma attacks.\n",
    "Coughing and chest tightness, which often accompany respiratory distress.\n",
    "Less frequent symptoms such as hay fever, gastroesophageal reflux, and eczema may be linked to allergic or inflammatory responses associated with asthma."
   ]
  },
  {
   "cell_type": "markdown",
   "metadata": {},
   "source": [
    "Train Models "
   ]
  },
  {
   "cell_type": "code",
   "execution_count": 89,
   "metadata": {},
   "outputs": [
    {
     "data": {
      "text/plain": [
       "((1913, 28), (479, 28), (1913,), (479,))"
      ]
     },
     "execution_count": 89,
     "metadata": {},
     "output_type": "execute_result"
    }
   ],
   "source": [
    "from sklearn.model_selection import train_test_split\n",
    "\n",
    "# Define features and target\n",
    "X = df.drop(columns=[\"Diagnosis\"])  # Drop non-relevant columns\n",
    "y = df[\"Diagnosis\"]  # Target variable\n",
    "\n",
    "# Split data (80% train, 20% test)\n",
    "X_train, X_test, y_train, y_test = train_test_split(X, y, test_size=0.2, random_state=42)\n",
    "\n",
    "# Check the shape of training and testing sets\n",
    "X_train.shape, X_test.shape, y_train.shape, y_test.shape\n"
   ]
  },
  {
   "cell_type": "code",
   "execution_count": 90,
   "metadata": {},
   "outputs": [],
   "source": [
    "# Split data (80% train, 20% test)\n",
    "X_train, X_test, y_train, y_test = train_test_split(X, y, test_size=0.2, random_state=42)"
   ]
  },
  {
   "cell_type": "code",
   "execution_count": 91,
   "metadata": {},
   "outputs": [
    {
     "name": "stdout",
     "output_type": "stream",
     "text": [
      "      Age  Gender  Ethnicity  EducationLevel  BMI  Smoking  PhysicalActivity  \\\n",
      "0      63       0          1               0   15        0                 0   \n",
      "1      26       1          2               2   22        0                 5   \n",
      "2      57       0          2               1   18        0                 6   \n",
      "3      40       1          2               1   38        0                 1   \n",
      "4      61       0          0               3   19        0                 4   \n",
      "...   ...     ...        ...             ...  ...      ...               ...   \n",
      "2387   43       1          0               2   29        0                 3   \n",
      "2388   18       1          0               1   20        0                 5   \n",
      "2389   54       0          3               2   37        0                 4   \n",
      "2390   46       1          0               2   23        0                 9   \n",
      "2391   26       1          0               0   28        1                 1   \n",
      "\n",
      "      DietQuality  SleepQuality  PollutionExposure  ...  LungFunctionFEV1  \\\n",
      "0               5             8                  7  ...                 1   \n",
      "1               6             5                  1  ...                 2   \n",
      "2               9             6                  1  ...                 1   \n",
      "3               5             4                  0  ...                 3   \n",
      "4               3             9                  0  ...                 3   \n",
      "...           ...           ...                ...  ...               ...   \n",
      "2387            6             8                  2  ...                 3   \n",
      "2388            4             7                  7  ...                 1   \n",
      "2389            8             7                  2  ...                 1   \n",
      "2390            7             6                  9  ...                 3   \n",
      "2391            7             8                  3  ...                 2   \n",
      "\n",
      "      LungFunctionFVC  Wheezing  ShortnessOfBreath  ChestTightness  Coughing  \\\n",
      "0                   4         0                  0               1         0   \n",
      "1                   1         1                  0               0         1   \n",
      "2                   5         1                  1               1         0   \n",
      "3                   2         1                  0               1         1   \n",
      "4                   3         1                  1               1         0   \n",
      "...               ...       ...                ...             ...       ...   \n",
      "2387                5         0                  1               0         0   \n",
      "2388                5         0                  0               0         1   \n",
      "2389                3         1                  0               1         1   \n",
      "2390                1         0                  1               1         0   \n",
      "2391                2         1                  1               0         0   \n",
      "\n",
      "      NighttimeSymptoms  ExerciseInduced  Age Group  BMI Category  \n",
      "0                     0                1      60-70   Underweight  \n",
      "1                     1                1      20-30        Normal  \n",
      "2                     1                1      50-60   Underweight  \n",
      "3                     1                0      40-50      Obese II  \n",
      "4                     0                1      60-70        Normal  \n",
      "...                 ...              ...        ...           ...  \n",
      "2387                  0                1      40-50    Overweight  \n",
      "2388                  1                0      10-20        Normal  \n",
      "2389                  0                1      50-60      Obese II  \n",
      "2390                  1                1      40-50        Normal  \n",
      "2391                  1                0      20-30    Overweight  \n",
      "\n",
      "[2392 rows x 28 columns]\n"
     ]
    }
   ],
   "source": [
    "print(X)"
   ]
  },
  {
   "cell_type": "code",
   "execution_count": 92,
   "metadata": {},
   "outputs": [
    {
     "name": "stdout",
     "output_type": "stream",
     "text": [
      "0       0\n",
      "1       0\n",
      "2       0\n",
      "3       0\n",
      "4       0\n",
      "       ..\n",
      "2387    1\n",
      "2388    1\n",
      "2389    1\n",
      "2390    0\n",
      "2391    0\n",
      "Name: Diagnosis, Length: 2392, dtype: int64\n"
     ]
    }
   ],
   "source": [
    "print(y)"
   ]
  },
  {
   "cell_type": "code",
   "execution_count": 93,
   "metadata": {},
   "outputs": [
    {
     "name": "stdout",
     "output_type": "stream",
     "text": [
      "(1913,)\n",
      "(479,)\n"
     ]
    }
   ],
   "source": [
    "print(y_train.shape)\n",
    "print(y_test.shape)"
   ]
  },
  {
   "cell_type": "code",
   "execution_count": 94,
   "metadata": {},
   "outputs": [
    {
     "data": {
      "text/plain": [
       "Diagnosis\n",
       "0    1812\n",
       "1     101\n",
       "Name: count, dtype: int64"
      ]
     },
     "execution_count": 94,
     "metadata": {},
     "output_type": "execute_result"
    }
   ],
   "source": [
    "y_train.value_counts()"
   ]
  },
  {
   "cell_type": "code",
   "execution_count": 95,
   "metadata": {},
   "outputs": [
    {
     "data": {
      "text/plain": [
       "Diagnosis\n",
       "0    456\n",
       "1     23\n",
       "Name: count, dtype: int64"
      ]
     },
     "execution_count": 95,
     "metadata": {},
     "output_type": "execute_result"
    }
   ],
   "source": [
    "y_test.value_counts()"
   ]
  },
  {
   "cell_type": "code",
   "execution_count": 96,
   "metadata": {},
   "outputs": [],
   "source": [
    "smote=SMOTE(random_state=42)"
   ]
  },
  {
   "cell_type": "code",
   "execution_count": 97,
   "metadata": {},
   "outputs": [
    {
     "name": "stdout",
     "output_type": "stream",
     "text": [
      "Index([], dtype='object')\n"
     ]
    }
   ],
   "source": [
    "print(X_train.select_dtypes(include=['object']).columns)\n"
   ]
  },
  {
   "cell_type": "code",
   "execution_count": 98,
   "metadata": {},
   "outputs": [],
   "source": [
    "from sklearn.preprocessing import LabelEncoder\n",
    "\n",
    "label_encoder = LabelEncoder()\n",
    "for col in X_train.select_dtypes(include=['object']).columns:\n",
    "    X_train[col] = label_encoder.fit_transform(X_train[col])\n",
    "    X_test[col] = label_encoder.transform(X_test[col])  # If test data exists\n"
   ]
  },
  {
   "cell_type": "code",
   "execution_count": 99,
   "metadata": {},
   "outputs": [],
   "source": [
    "X_train = pd.get_dummies(X_train, drop_first=True)\n",
    "X_test = pd.get_dummies(X_test, drop_first=True)\n"
   ]
  },
  {
   "cell_type": "code",
   "execution_count": 100,
   "metadata": {},
   "outputs": [],
   "source": [
    "X_train, X_test = X_train.align(X_test, join='left', axis=1, fill_value=0)\n"
   ]
  },
  {
   "cell_type": "code",
   "execution_count": 101,
   "metadata": {},
   "outputs": [],
   "source": [
    "from imblearn.over_sampling import SMOTE\n",
    "\n",
    "smote = SMOTE(random_state=42)\n",
    "X_train_smote, y_train_smote = smote.fit_resample(X_train, y_train)\n"
   ]
  },
  {
   "cell_type": "code",
   "execution_count": 102,
   "metadata": {},
   "outputs": [
    {
     "name": "stdout",
     "output_type": "stream",
     "text": [
      "(3624,)\n"
     ]
    }
   ],
   "source": [
    "print(y_train_smote.shape)"
   ]
  },
  {
   "cell_type": "code",
   "execution_count": 103,
   "metadata": {},
   "outputs": [
    {
     "name": "stdout",
     "output_type": "stream",
     "text": [
      "Diagnosis\n",
      "0    1812\n",
      "1    1812\n",
      "Name: count, dtype: int64\n"
     ]
    }
   ],
   "source": [
    "print(y_train_smote.value_counts())"
   ]
  },
  {
   "cell_type": "markdown",
   "metadata": {},
   "source": [
    "MODEL 1: Random Forest model"
   ]
  },
  {
   "cell_type": "code",
   "execution_count": 112,
   "metadata": {},
   "outputs": [
    {
     "data": {
      "text/plain": [
       "0.9519832985386222"
      ]
     },
     "execution_count": 112,
     "metadata": {},
     "output_type": "execute_result"
    }
   ],
   "source": [
    "from sklearn.metrics import accuracy_score\n",
    "\n",
    "# Re-split the data after conversion\n",
    "X_train, X_test, y_train, y_test = train_test_split(X, y, test_size=0.2, random_state=42)\n",
    "\n",
    "# Train the Random Forest model\n",
    "rf_model = RandomForestClassifier(random_state=42, n_estimators=100)\n",
    "rf_model.fit(X_train, y_train)\n",
    "\n",
    "# Make predictions\n",
    "y_pred = rf_model.predict(X_test)\n",
    "\n",
    "# Evaluate the model\n",
    "accuracy = accuracy_score(y_test, y_pred)\n",
    "\n",
    "\n",
    "accuracy\n"
   ]
  },
  {
   "cell_type": "code",
   "execution_count": 106,
   "metadata": {},
   "outputs": [
    {
     "data": {
      "text/plain": [
       "Age                          int64\n",
       "Gender                       int64\n",
       "Ethnicity                    int64\n",
       "EducationLevel               int64\n",
       "BMI                          int32\n",
       "Smoking                      int64\n",
       "PhysicalActivity             int32\n",
       "DietQuality                  int32\n",
       "SleepQuality                 int32\n",
       "PollutionExposure            int32\n",
       "PollenExposure               int32\n",
       "DustExposure                 int32\n",
       "PetAllergy                   int64\n",
       "FamilyHistoryAsthma          int64\n",
       "HistoryOfAllergies           int64\n",
       "Eczema                       int64\n",
       "HayFever                     int64\n",
       "GastroesophagealReflux       int64\n",
       "LungFunctionFEV1             int32\n",
       "LungFunctionFVC              int32\n",
       "Wheezing                     int64\n",
       "ShortnessOfBreath            int64\n",
       "ChestTightness               int64\n",
       "Coughing                     int64\n",
       "NighttimeSymptoms            int64\n",
       "ExerciseInduced              int64\n",
       "Diagnosis                    int64\n",
       "Age Group                 category\n",
       "BMI Category              category\n",
       "dtype: object"
      ]
     },
     "execution_count": 106,
     "metadata": {},
     "output_type": "execute_result"
    }
   ],
   "source": [
    "from sklearn.preprocessing import LabelEncoder\n",
    "\n",
    "# Identify categorical columns\n",
    "categorical_cols = X.select_dtypes(include=['category', 'object']).columns\n",
    "\n",
    "# Apply Label Encoding\n",
    "label_encoders = {}\n",
    "for col in categorical_cols:\n",
    "    le = LabelEncoder()\n",
    "    X[col] = le.fit_transform(X[col])\n",
    "    label_encoders[col] = le  # Store the encoders for future reference\n",
    "\n",
    "# Verify the conversion\n",
    "df.dtypes\n"
   ]
  },
  {
   "cell_type": "code",
   "execution_count": 107,
   "metadata": {},
   "outputs": [
    {
     "data": {
      "text/plain": [
       "0.9519832985386222"
      ]
     },
     "execution_count": 107,
     "metadata": {},
     "output_type": "execute_result"
    }
   ],
   "source": [
    "# Re-split the data after encoding\n",
    "X_train, X_test, y_train, y_test = train_test_split(X, y, test_size=0.2, random_state=42)\n",
    "\n",
    "# Train the Random Forest model\n",
    "rf_model = RandomForestClassifier(random_state=42, n_estimators=100)\n",
    "rf_model.fit(X_train, y_train)\n",
    "\n",
    "# Make predictions\n",
    "y_pred = rf_model.predict(X_test)\n",
    "\n",
    "# Evaluate the model\n",
    "accuracy = accuracy_score(y_test, y_pred)\n",
    " \n",
    "\n",
    "accuracy \n"
   ]
  },
  {
   "cell_type": "markdown",
   "metadata": {},
   "source": [
    "MODEL 2: XGBoost model"
   ]
  },
  {
   "cell_type": "code",
   "execution_count": 108,
   "metadata": {},
   "outputs": [
    {
     "name": "stderr",
     "output_type": "stream",
     "text": [
      "c:\\Users\\sitha\\AppData\\Local\\Programs\\Python\\Python310\\lib\\site-packages\\xgboost\\core.py:158: UserWarning: [12:48:19] WARNING: C:\\buildkite-agent\\builds\\buildkite-windows-cpu-autoscaling-group-i-08cbc0333d8d4aae1-1\\xgboost\\xgboost-ci-windows\\src\\learner.cc:740: \n",
      "Parameters: { \"use_label_encoder\" } are not used.\n",
      "\n",
      "  warnings.warn(smsg, UserWarning)\n"
     ]
    },
    {
     "data": {
      "text/plain": [
       "0.9498956158663883"
      ]
     },
     "execution_count": 108,
     "metadata": {},
     "output_type": "execute_result"
    }
   ],
   "source": [
    "\n",
    "# Train XGBoost model\n",
    "xgb_model = XGBClassifier(use_label_encoder=False, eval_metric='logloss', random_state=42)\n",
    "xgb_model.fit(X_train, y_train)\n",
    "\n",
    "# Make predictions\n",
    "y_pred_xgb = xgb_model.predict(X_test)\n",
    "\n",
    "# Evaluate the model\n",
    "xgb_accuracy = accuracy_score(y_test, y_pred_xgb)\n",
    " \n",
    "\n",
    "xgb_accuracy \n"
   ]
  },
  {
   "cell_type": "code",
   "execution_count": 109,
   "metadata": {},
   "outputs": [
    {
     "data": {
      "text/plain": [
       "((1913, 28), (479, 28))"
      ]
     },
     "execution_count": 109,
     "metadata": {},
     "output_type": "execute_result"
    }
   ],
   "source": [
    "from sklearn.preprocessing import LabelEncoder\n",
    "\n",
    "\n",
    "\n",
    "# Encode categorical features if needed\n",
    "for col in df.select_dtypes(include=['object', 'category']).columns:\n",
    "    df[col] = LabelEncoder().fit_transform(df[col])\n",
    "\n",
    "# Define features (X) and target (y)\n",
    "X = df.drop(columns=[\"Diagnosis\"])  # Features\n",
    "y = df[\"Diagnosis\"]  # Target\n",
    "\n",
    "# Convert all float columns to int if necessary\n",
    "X = X.apply(lambda col: col.astype(int) if col.dtype == 'float64' else col)\n",
    "\n",
    "# Split the data (80% train, 20% test)\n",
    "X_train, X_test, y_train, y_test = train_test_split(X, y, test_size=0.2, random_state=42)\n",
    "\n",
    "# Check the shape of train/test sets\n",
    "X_train.shape, X_test.shape\n"
   ]
  },
  {
   "cell_type": "markdown",
   "metadata": {},
   "source": [
    "MODEL 3:  k-NN model"
   ]
  },
  {
   "cell_type": "code",
   "execution_count": 110,
   "metadata": {},
   "outputs": [
    {
     "data": {
      "text/plain": [
       "0.9478079331941545"
      ]
     },
     "execution_count": 110,
     "metadata": {},
     "output_type": "execute_result"
    }
   ],
   "source": [
    "# Train k-NN model\n",
    "\n",
    "knn_model = KNeighborsClassifier(n_neighbors=5)  # Using 5 neighbors as default\n",
    "knn_model.fit(X_train, y_train)\n",
    "y_pred_knn = knn_model.predict(X_test)\n",
    "\n",
    "# Evaluate models\n",
    "knn_accuracy = accuracy_score(y_test, y_pred_knn)\n",
    "\n",
    "(knn_accuracy)\n",
    "\n"
   ]
  },
  {
   "cell_type": "markdown",
   "metadata": {},
   "source": [
    "MODEL 4:  MLP (Neural Network) model"
   ]
  },
  {
   "cell_type": "code",
   "execution_count": null,
   "metadata": {},
   "outputs": [
    {
     "data": {
      "text/plain": [
       "(0.9331941544885177,\n",
       " '              precision    recall  f1-score   support\\n\\n           0       0.95      0.98      0.97       456\\n           1       0.00      0.00      0.00        23\\n\\n    accuracy                           0.93       479\\n   macro avg       0.48      0.49      0.48       479\\nweighted avg       0.91      0.93      0.92       479\\n')"
      ]
     },
     "execution_count": 74,
     "metadata": {},
     "output_type": "execute_result"
    }
   ],
   "source": [
    "# Train MLP (Neural Network) model\n",
    "mlp_model = MLPClassifier(hidden_layer_sizes=(100,), max_iter=500, random_state=42)\n",
    "mlp_model.fit(X_train, y_train)\n",
    "y_pred_mlp = mlp_model.predict(X_test)\n",
    "\n",
    "\n",
    "# Evaluate models\n",
    "mlp_accuracy = accuracy_score(y_test, y_pred_mlp)\n",
    "\n",
    "(mlp_accuracy)"
   ]
  },
  {
   "cell_type": "markdown",
   "metadata": {},
   "source": [
    "Comparing Predictions and  Evaluate model performance"
   ]
  },
  {
   "cell_type": "code",
   "execution_count": 111,
   "metadata": {},
   "outputs": [
    {
     "data": {
      "image/png": "[encoded data removed]",
      "text/plain": [
       "<Figure size 800x500 with 1 Axes>"
      ]
     },
     "metadata": {},
     "output_type": "display_data"
    }
   ],
   "source": [
    "\n",
    "# Sample accuracy scores (assuming these from previous models)\n",
    "models = [\"Random Forest\", \"k-NN\", \"MLP\", \"XGBoost\"]\n",
    "accuracy_scores = [0.9519832985386222, 0.9478079331941545, 0.9331941544885177, 0.9498956158663883]  \n",
    "\n",
    "# Plot line graph\n",
    "plt.figure(figsize=(8, 5))\n",
    "plt.plot(models, accuracy_scores, marker='o', linestyle='-', color='b', label=\"Accuracy\")\n",
    "\n",
    "# Annotate points with accuracy values\n",
    "for i, score in enumerate(accuracy_scores):\n",
    "    plt.text(i, score, f\"{score:.2f}\", ha='center', va='bottom', fontsize=10)\n",
    "\n",
    "# Labels and title\n",
    "plt.xlabel(\"Machine Learning Model\")\n",
    "plt.ylabel(\"Accuracy Score\")\n",
    "plt.title(\"Model Accuracy Comparison\")\n",
    "plt.ylim(0.7, 1.0)  # Keeping scale consistent\n",
    "plt.grid(True, linestyle='--', alpha=0.6)\n",
    "\n",
    "\n"
   ]
  },
  {
   "cell_type": "code",
   "execution_count": null,
   "metadata": {},
   "outputs": [
    {
     "name": "stdout",
     "output_type": "stream",
     "text": [
      "Fitting 5 folds for each of 20 candidates, totalling 100 fits\n"
     ]
    },
    {
     "data": {
      "text/html": [
       "<style>#sk-container-id-2 {\n",
       "  /* Definition of color scheme common for light and dark mode */\n",
       "  --sklearn-color-text: black;\n",
       "  --sklearn-color-line: gray;\n",
       "  /* Definition of color scheme for unfitted estimators */\n",
       "  --sklearn-color-unfitted-level-0: #fff5e6;\n",
       "  --sklearn-color-unfitted-level-1: #f6e4d2;\n",
       "  --sklearn-color-unfitted-level-2: #ffe0b3;\n",
       "  --sklearn-color-unfitted-level-3: chocolate;\n",
       "  /* Definition of color scheme for fitted estimators */\n",
       "  --sklearn-color-fitted-level-0: #f0f8ff;\n",
       "  --sklearn-color-fitted-level-1: #d4ebff;\n",
       "  --sklearn-color-fitted-level-2: #b3dbfd;\n",
       "  --sklearn-color-fitted-level-3: cornflowerblue;\n",
       "\n",
       "  /* Specific color for light theme */\n",
       "  --sklearn-color-text-on-default-background: var(--sg-text-color, var(--theme-code-foreground, var(--jp-content-font-color1, black)));\n",
       "  --sklearn-color-background: var(--sg-background-color, var(--theme-background, var(--jp-layout-color0, white)));\n",
       "  --sklearn-color-border-box: var(--sg-text-color, var(--theme-code-foreground, var(--jp-content-font-color1, black)));\n",
       "  --sklearn-color-icon: #696969;\n",
       "\n",
       "  @media (prefers-color-scheme: dark) {\n",
       "    /* Redefinition of color scheme for dark theme */\n",
       "    --sklearn-color-text-on-default-background: var(--sg-text-color, var(--theme-code-foreground, var(--jp-content-font-color1, white)));\n",
       "    --sklearn-color-background: var(--sg-background-color, var(--theme-background, var(--jp-layout-color0, #111)));\n",
       "    --sklearn-color-border-box: var(--sg-text-color, var(--theme-code-foreground, var(--jp-content-font-color1, white)));\n",
       "    --sklearn-color-icon: #878787;\n",
       "  }\n",
       "}\n",
       "\n",
       "#sk-container-id-2 {\n",
       "  color: var(--sklearn-color-text);\n",
       "}\n",
       "\n",
       "#sk-container-id-2 pre {\n",
       "  padding: 0;\n",
       "}\n",
       "\n",
       "#sk-container-id-2 input.sk-hidden--visually {\n",
       "  border: 0;\n",
       "  clip: rect(1px 1px 1px 1px);\n",
       "  clip: rect(1px, 1px, 1px, 1px);\n",
       "  height: 1px;\n",
       "  margin: -1px;\n",
       "  overflow: hidden;\n",
       "  padding: 0;\n",
       "  position: absolute;\n",
       "  width: 1px;\n",
       "}\n",
       "\n",
       "#sk-container-id-2 div.sk-dashed-wrapped {\n",
       "  border: 1px dashed var(--sklearn-color-line);\n",
       "  margin: 0 0.4em 0.5em 0.4em;\n",
       "  box-sizing: border-box;\n",
       "  padding-bottom: 0.4em;\n",
       "  background-color: var(--sklearn-color-background);\n",
       "}\n",
       "\n",
       "#sk-container-id-2 div.sk-container {\n",
       "  /* jupyter's `normalize.less` sets `[hidden] { display: none; }`\n",
       "     but bootstrap.min.css set `[hidden] { display: none !important; }`\n",
       "     so we also need the `!important` here to be able to override the\n",
       "     default hidden behavior on the sphinx rendered scikit-learn.org.\n",
       "     See: https://github.com/scikit-learn/scikit-learn/issues/21755 */\n",
       "  display: inline-block !important;\n",
       "  position: relative;\n",
       "}\n",
       "\n",
       "#sk-container-id-2 div.sk-text-repr-fallback {\n",
       "  display: none;\n",
       "}\n",
       "\n",
       "div.sk-parallel-item,\n",
       "div.sk-serial,\n",
       "div.sk-item {\n",
       "  /* draw centered vertical line to link estimators */\n",
       "  background-image: linear-gradient(var(--sklearn-color-text-on-default-background), var(--sklearn-color-text-on-default-background));\n",
       "  background-size: 2px 100%;\n",
       "  background-repeat: no-repeat;\n",
       "  background-position: center center;\n",
       "}\n",
       "\n",
       "/* Parallel-specific style estimator block */\n",
       "\n",
       "#sk-container-id-2 div.sk-parallel-item::after {\n",
       "  content: \"\";\n",
       "  width: 100%;\n",
       "  border-bottom: 2px solid var(--sklearn-color-text-on-default-background);\n",
       "  flex-grow: 1;\n",
       "}\n",
       "\n",
       "#sk-container-id-2 div.sk-parallel {\n",
       "  display: flex;\n",
       "  align-items: stretch;\n",
       "  justify-content: center;\n",
       "  background-color: var(--sklearn-color-background);\n",
       "  position: relative;\n",
       "}\n",
       "\n",
       "#sk-container-id-2 div.sk-parallel-item {\n",
       "  display: flex;\n",
       "  flex-direction: column;\n",
       "}\n",
       "\n",
       "#sk-container-id-2 div.sk-parallel-item:first-child::after {\n",
       "  align-self: flex-end;\n",
       "  width: 50%;\n",
       "}\n",
       "\n",
       "#sk-container-id-2 div.sk-parallel-item:last-child::after {\n",
       "  align-self: flex-start;\n",
       "  width: 50%;\n",
       "}\n",
       "\n",
       "#sk-container-id-2 div.sk-parallel-item:only-child::after {\n",
       "  width: 0;\n",
       "}\n",
       "\n",
       "/* Serial-specific style estimator block */\n",
       "\n",
       "#sk-container-id-2 div.sk-serial {\n",
       "  display: flex;\n",
       "  flex-direction: column;\n",
       "  align-items: center;\n",
       "  background-color: var(--sklearn-color-background);\n",
       "  padding-right: 1em;\n",
       "  padding-left: 1em;\n",
       "}\n",
       "\n",
       "\n",
       "/* Toggleable style: style used for estimator/Pipeline/ColumnTransformer box that is\n",
       "clickable and can be expanded/collapsed.\n",
       "- Pipeline and ColumnTransformer use this feature and define the default style\n",
       "- Estimators will overwrite some part of the style using the `sk-estimator` class\n",
       "*/\n",
       "\n",
       "/* Pipeline and ColumnTransformer style (default) */\n",
       "\n",
       "#sk-container-id-2 div.sk-toggleable {\n",
       "  /* Default theme specific background. It is overwritten whether we have a\n",
       "  specific estimator or a Pipeline/ColumnTransformer */\n",
       "  background-color: var(--sklearn-color-background);\n",
       "}\n",
       "\n",
       "/* Toggleable label */\n",
       "#sk-container-id-2 label.sk-toggleable__label {\n",
       "  cursor: pointer;\n",
       "  display: block;\n",
       "  width: 100%;\n",
       "  margin-bottom: 0;\n",
       "  padding: 0.5em;\n",
       "  box-sizing: border-box;\n",
       "  text-align: center;\n",
       "}\n",
       "\n",
       "#sk-container-id-2 label.sk-toggleable__label-arrow:before {\n",
       "  /* Arrow on the left of the label */\n",
       "  content: \"▸\";\n",
       "  float: left;\n",
       "  margin-right: 0.25em;\n",
       "  color: var(--sklearn-color-icon);\n",
       "}\n",
       "\n",
       "#sk-container-id-2 label.sk-toggleable__label-arrow:hover:before {\n",
       "  color: var(--sklearn-color-text);\n",
       "}\n",
       "\n",
       "/* Toggleable content - dropdown */\n",
       "\n",
       "#sk-container-id-2 div.sk-toggleable__content {\n",
       "  max-height: 0;\n",
       "  max-width: 0;\n",
       "  overflow: hidden;\n",
       "  text-align: left;\n",
       "  /* unfitted */\n",
       "  background-color: var(--sklearn-color-unfitted-level-0);\n",
       "}\n",
       "\n",
       "#sk-container-id-2 div.sk-toggleable__content.fitted {\n",
       "  /* fitted */\n",
       "  background-color: var(--sklearn-color-fitted-level-0);\n",
       "}\n",
       "\n",
       "#sk-container-id-2 div.sk-toggleable__content pre {\n",
       "  margin: 0.2em;\n",
       "  border-radius: 0.25em;\n",
       "  color: var(--sklearn-color-text);\n",
       "  /* unfitted */\n",
       "  background-color: var(--sklearn-color-unfitted-level-0);\n",
       "}\n",
       "\n",
       "#sk-container-id-2 div.sk-toggleable__content.fitted pre {\n",
       "  /* unfitted */\n",
       "  background-color: var(--sklearn-color-fitted-level-0);\n",
       "}\n",
       "\n",
       "#sk-container-id-2 input.sk-toggleable__control:checked~div.sk-toggleable__content {\n",
       "  /* Expand drop-down */\n",
       "  max-height: 200px;\n",
       "  max-width: 100%;\n",
       "  overflow: auto;\n",
       "}\n",
       "\n",
       "#sk-container-id-2 input.sk-toggleable__control:checked~label.sk-toggleable__label-arrow:before {\n",
       "  content: \"▾\";\n",
       "}\n",
       "\n",
       "/* Pipeline/ColumnTransformer-specific style */\n",
       "\n",
       "#sk-container-id-2 div.sk-label input.sk-toggleable__control:checked~label.sk-toggleable__label {\n",
       "  color: var(--sklearn-color-text);\n",
       "  background-color: var(--sklearn-color-unfitted-level-2);\n",
       "}\n",
       "\n",
       "#sk-container-id-2 div.sk-label.fitted input.sk-toggleable__control:checked~label.sk-toggleable__label {\n",
       "  background-color: var(--sklearn-color-fitted-level-2);\n",
       "}\n",
       "\n",
       "/* Estimator-specific style */\n",
       "\n",
       "/* Colorize estimator box */\n",
       "#sk-container-id-2 div.sk-estimator input.sk-toggleable__control:checked~label.sk-toggleable__label {\n",
       "  /* unfitted */\n",
       "  background-color: var(--sklearn-color-unfitted-level-2);\n",
       "}\n",
       "\n",
       "#sk-container-id-2 div.sk-estimator.fitted input.sk-toggleable__control:checked~label.sk-toggleable__label {\n",
       "  /* fitted */\n",
       "  background-color: var(--sklearn-color-fitted-level-2);\n",
       "}\n",
       "\n",
       "#sk-container-id-2 div.sk-label label.sk-toggleable__label,\n",
       "#sk-container-id-2 div.sk-label label {\n",
       "  /* The background is the default theme color */\n",
       "  color: var(--sklearn-color-text-on-default-background);\n",
       "}\n",
       "\n",
       "/* On hover, darken the color of the background */\n",
       "#sk-container-id-2 div.sk-label:hover label.sk-toggleable__label {\n",
       "  color: var(--sklearn-color-text);\n",
       "  background-color: var(--sklearn-color-unfitted-level-2);\n",
       "}\n",
       "\n",
       "/* Label box, darken color on hover, fitted */\n",
       "#sk-container-id-2 div.sk-label.fitted:hover label.sk-toggleable__label.fitted {\n",
       "  color: var(--sklearn-color-text);\n",
       "  background-color: var(--sklearn-color-fitted-level-2);\n",
       "}\n",
       "\n",
       "/* Estimator label */\n",
       "\n",
       "#sk-container-id-2 div.sk-label label {\n",
       "  font-family: monospace;\n",
       "  font-weight: bold;\n",
       "  display: inline-block;\n",
       "  line-height: 1.2em;\n",
       "}\n",
       "\n",
       "#sk-container-id-2 div.sk-label-container {\n",
       "  text-align: center;\n",
       "}\n",
       "\n",
       "/* Estimator-specific */\n",
       "#sk-container-id-2 div.sk-estimator {\n",
       "  font-family: monospace;\n",
       "  border: 1px dotted var(--sklearn-color-border-box);\n",
       "  border-radius: 0.25em;\n",
       "  box-sizing: border-box;\n",
       "  margin-bottom: 0.5em;\n",
       "  /* unfitted */\n",
       "  background-color: var(--sklearn-color-unfitted-level-0);\n",
       "}\n",
       "\n",
       "#sk-container-id-2 div.sk-estimator.fitted {\n",
       "  /* fitted */\n",
       "  background-color: var(--sklearn-color-fitted-level-0);\n",
       "}\n",
       "\n",
       "/* on hover */\n",
       "#sk-container-id-2 div.sk-estimator:hover {\n",
       "  /* unfitted */\n",
       "  background-color: var(--sklearn-color-unfitted-level-2);\n",
       "}\n",
       "\n",
       "#sk-container-id-2 div.sk-estimator.fitted:hover {\n",
       "  /* fitted */\n",
       "  background-color: var(--sklearn-color-fitted-level-2);\n",
       "}\n",
       "\n",
       "/* Specification for estimator info (e.g. \"i\" and \"?\") */\n",
       "\n",
       "/* Common style for \"i\" and \"?\" */\n",
       "\n",
       ".sk-estimator-doc-link,\n",
       "a:link.sk-estimator-doc-link,\n",
       "a:visited.sk-estimator-doc-link {\n",
       "  float: right;\n",
       "  font-size: smaller;\n",
       "  line-height: 1em;\n",
       "  font-family: monospace;\n",
       "  background-color: var(--sklearn-color-background);\n",
       "  border-radius: 1em;\n",
       "  height: 1em;\n",
       "  width: 1em;\n",
       "  text-decoration: none !important;\n",
       "  margin-left: 1ex;\n",
       "  /* unfitted */\n",
       "  border: var(--sklearn-color-unfitted-level-1) 1pt solid;\n",
       "  color: var(--sklearn-color-unfitted-level-1);\n",
       "}\n",
       "\n",
       ".sk-estimator-doc-link.fitted,\n",
       "a:link.sk-estimator-doc-link.fitted,\n",
       "a:visited.sk-estimator-doc-link.fitted {\n",
       "  /* fitted */\n",
       "  border: var(--sklearn-color-fitted-level-1) 1pt solid;\n",
       "  color: var(--sklearn-color-fitted-level-1);\n",
       "}\n",
       "\n",
       "/* On hover */\n",
       "div.sk-estimator:hover .sk-estimator-doc-link:hover,\n",
       ".sk-estimator-doc-link:hover,\n",
       "div.sk-label-container:hover .sk-estimator-doc-link:hover,\n",
       ".sk-estimator-doc-link:hover {\n",
       "  /* unfitted */\n",
       "  background-color: var(--sklearn-color-unfitted-level-3);\n",
       "  color: var(--sklearn-color-background);\n",
       "  text-decoration: none;\n",
       "}\n",
       "\n",
       "div.sk-estimator.fitted:hover .sk-estimator-doc-link.fitted:hover,\n",
       ".sk-estimator-doc-link.fitted:hover,\n",
       "div.sk-label-container:hover .sk-estimator-doc-link.fitted:hover,\n",
       ".sk-estimator-doc-link.fitted:hover {\n",
       "  /* fitted */\n",
       "  background-color: var(--sklearn-color-fitted-level-3);\n",
       "  color: var(--sklearn-color-background);\n",
       "  text-decoration: none;\n",
       "}\n",
       "\n",
       "/* Span, style for the box shown on hovering the info icon */\n",
       ".sk-estimator-doc-link span {\n",
       "  display: none;\n",
       "  z-index: 9999;\n",
       "  position: relative;\n",
       "  font-weight: normal;\n",
       "  right: .2ex;\n",
       "  padding: .5ex;\n",
       "  margin: .5ex;\n",
       "  width: min-content;\n",
       "  min-width: 20ex;\n",
       "  max-width: 50ex;\n",
       "  color: var(--sklearn-color-text);\n",
       "  box-shadow: 2pt 2pt 4pt #999;\n",
       "  /* unfitted */\n",
       "  background: var(--sklearn-color-unfitted-level-0);\n",
       "  border: .5pt solid var(--sklearn-color-unfitted-level-3);\n",
       "}\n",
       "\n",
       ".sk-estimator-doc-link.fitted span {\n",
       "  /* fitted */\n",
       "  background: var(--sklearn-color-fitted-level-0);\n",
       "  border: var(--sklearn-color-fitted-level-3);\n",
       "}\n",
       "\n",
       ".sk-estimator-doc-link:hover span {\n",
       "  display: block;\n",
       "}\n",
       "\n",
       "/* \"?\"-specific style due to the `<a>` HTML tag */\n",
       "\n",
       "#sk-container-id-2 a.estimator_doc_link {\n",
       "  float: right;\n",
       "  font-size: 1rem;\n",
       "  line-height: 1em;\n",
       "  font-family: monospace;\n",
       "  background-color: var(--sklearn-color-background);\n",
       "  border-radius: 1rem;\n",
       "  height: 1rem;\n",
       "  width: 1rem;\n",
       "  text-decoration: none;\n",
       "  /* unfitted */\n",
       "  color: var(--sklearn-color-unfitted-level-1);\n",
       "  border: var(--sklearn-color-unfitted-level-1) 1pt solid;\n",
       "}\n",
       "\n",
       "#sk-container-id-2 a.estimator_doc_link.fitted {\n",
       "  /* fitted */\n",
       "  border: var(--sklearn-color-fitted-level-1) 1pt solid;\n",
       "  color: var(--sklearn-color-fitted-level-1);\n",
       "}\n",
       "\n",
       "/* On hover */\n",
       "#sk-container-id-2 a.estimator_doc_link:hover {\n",
       "  /* unfitted */\n",
       "  background-color: var(--sklearn-color-unfitted-level-3);\n",
       "  color: var(--sklearn-color-background);\n",
       "  text-decoration: none;\n",
       "}\n",
       "\n",
       "#sk-container-id-2 a.estimator_doc_link.fitted:hover {\n",
       "  /* fitted */\n",
       "  background-color: var(--sklearn-color-fitted-level-3);\n",
       "}\n",
       "</style><div id=\"sk-container-id-2\" class=\"sk-top-container\"><div class=\"sk-text-repr-fallback\"><pre>RandomizedSearchCV(cv=5, estimator=RandomForestClassifier(random_state=42),\n",
       "                   n_iter=20, n_jobs=-1,\n",
       "                   param_distributions={&#x27;bootstrap&#x27;: [True, False],\n",
       "                                        &#x27;max_depth&#x27;: [None, 10, 20, 30, 40, 50],\n",
       "                                        &#x27;max_features&#x27;: [&#x27;sqrt&#x27;, &#x27;log2&#x27;],\n",
       "                                        &#x27;min_samples_leaf&#x27;: [1, 2, 4],\n",
       "                                        &#x27;min_samples_split&#x27;: [2, 5, 10],\n",
       "                                        &#x27;n_estimators&#x27;: array([ 50, 100, 150, 200, 250, 300, 350, 400, 450])},\n",
       "                   random_state=42, verbose=2)</pre><b>In a Jupyter environment, please rerun this cell to show the HTML representation or trust the notebook. <br />On GitHub, the HTML representation is unable to render, please try loading this page with nbviewer.org.</b></div><div class=\"sk-container\" hidden><div class=\"sk-item sk-dashed-wrapped\"><div class=\"sk-label-container\"><div class=\"sk-label fitted sk-toggleable\"><input class=\"sk-toggleable__control sk-hidden--visually\" id=\"sk-estimator-id-4\" type=\"checkbox\" ><label for=\"sk-estimator-id-4\" class=\"sk-toggleable__label fitted sk-toggleable__label-arrow fitted\">&nbsp;&nbsp;RandomizedSearchCV<a class=\"sk-estimator-doc-link fitted\" rel=\"noreferrer\" target=\"_blank\" href=\"https://scikit-learn.org/1.5/modules/generated/sklearn.model_selection.RandomizedSearchCV.html\">?<span>Documentation for RandomizedSearchCV</span></a><span class=\"sk-estimator-doc-link fitted\">i<span>Fitted</span></span></label><div class=\"sk-toggleable__content fitted\"><pre>RandomizedSearchCV(cv=5, estimator=RandomForestClassifier(random_state=42),\n",
       "                   n_iter=20, n_jobs=-1,\n",
       "                   param_distributions={&#x27;bootstrap&#x27;: [True, False],\n",
       "                                        &#x27;max_depth&#x27;: [None, 10, 20, 30, 40, 50],\n",
       "                                        &#x27;max_features&#x27;: [&#x27;sqrt&#x27;, &#x27;log2&#x27;],\n",
       "                                        &#x27;min_samples_leaf&#x27;: [1, 2, 4],\n",
       "                                        &#x27;min_samples_split&#x27;: [2, 5, 10],\n",
       "                                        &#x27;n_estimators&#x27;: array([ 50, 100, 150, 200, 250, 300, 350, 400, 450])},\n",
       "                   random_state=42, verbose=2)</pre></div> </div></div><div class=\"sk-parallel\"><div class=\"sk-parallel-item\"><div class=\"sk-item\"><div class=\"sk-label-container\"><div class=\"sk-label fitted sk-toggleable\"><input class=\"sk-toggleable__control sk-hidden--visually\" id=\"sk-estimator-id-5\" type=\"checkbox\" ><label for=\"sk-estimator-id-5\" class=\"sk-toggleable__label fitted sk-toggleable__label-arrow fitted\">best_estimator_: RandomForestClassifier</label><div class=\"sk-toggleable__content fitted\"><pre>RandomForestClassifier(bootstrap=False, max_depth=30, max_features=&#x27;log2&#x27;,\n",
       "                       min_samples_leaf=4, min_samples_split=5,\n",
       "                       n_estimators=450, random_state=42)</pre></div> </div></div><div class=\"sk-serial\"><div class=\"sk-item\"><div class=\"sk-estimator fitted sk-toggleable\"><input class=\"sk-toggleable__control sk-hidden--visually\" id=\"sk-estimator-id-6\" type=\"checkbox\" ><label for=\"sk-estimator-id-6\" class=\"sk-toggleable__label fitted sk-toggleable__label-arrow fitted\">&nbsp;RandomForestClassifier<a class=\"sk-estimator-doc-link fitted\" rel=\"noreferrer\" target=\"_blank\" href=\"https://scikit-learn.org/1.5/modules/generated/sklearn.ensemble.RandomForestClassifier.html\">?<span>Documentation for RandomForestClassifier</span></a></label><div class=\"sk-toggleable__content fitted\"><pre>RandomForestClassifier(bootstrap=False, max_depth=30, max_features=&#x27;log2&#x27;,\n",
       "                       min_samples_leaf=4, min_samples_split=5,\n",
       "                       n_estimators=450, random_state=42)</pre></div> </div></div></div></div></div></div></div></div></div>"
      ],
      "text/plain": [
       "RandomizedSearchCV(cv=5, estimator=RandomForestClassifier(random_state=42),\n",
       "                   n_iter=20, n_jobs=-1,\n",
       "                   param_distributions={'bootstrap': [True, False],\n",
       "                                        'max_depth': [None, 10, 20, 30, 40, 50],\n",
       "                                        'max_features': ['sqrt', 'log2'],\n",
       "                                        'min_samples_leaf': [1, 2, 4],\n",
       "                                        'min_samples_split': [2, 5, 10],\n",
       "                                        'n_estimators': array([ 50, 100, 150, 200, 250, 300, 350, 400, 450])},\n",
       "                   random_state=42, verbose=2)"
      ]
     },
     "execution_count": 75,
     "metadata": {},
     "output_type": "execute_result"
    }
   ],
   "source": [
    "import numpy as np\n",
    "import pandas as pd\n",
    "from sklearn.ensemble import RandomForestClassifier\n",
    "from sklearn.model_selection import RandomizedSearchCV, train_test_split\n",
    "from sklearn.metrics import accuracy_score\n",
    "import joblib  # For saving the model\n",
    "\n",
    "\n",
    "\n",
    "# Split the dataset\n",
    "X_train, X_test, y_train, y_test = train_test_split(X, y, test_size=0.2, random_state=42)\n",
    "\n",
    "# Define hyperparameter grid\n",
    "param_dist = {\n",
    "    'n_estimators': np.arange(50, 500, 50),\n",
    "    'max_depth': [None, 10, 20, 30, 40, 50],\n",
    "    'min_samples_split': [2, 5, 10],\n",
    "    'min_samples_leaf': [1, 2, 4],\n",
    "    'max_features': ['sqrt', 'log2'],\n",
    "    'bootstrap': [True, False]\n",
    "}\n",
    "\n",
    "# Initialize Random Forest\n",
    "rf = RandomForestClassifier(random_state=42)\n",
    "\n",
    "# Use RandomizedSearchCV\n",
    "random_search = RandomizedSearchCV(rf, param_dist, n_iter=20, cv=5, verbose=2, random_state=42, n_jobs=-1)\n",
    "\n",
    "# Fit model\n",
    "random_search.fit(X_train, y_train)\n",
    "\n",
    "\n"
   ]
  },
  {
   "cell_type": "code",
   "execution_count": null,
   "metadata": {},
   "outputs": [
    {
     "name": "stdout",
     "output_type": "stream",
     "text": [
      "Optimized Random Forest Accuracy: 0.9520\n"
     ]
    }
   ],
   "source": [
    "# Get the best model\n",
    "best_rf = random_search.best_estimator_\n",
    "\n",
    "# Evaluate on test data\n",
    "y_pred = best_rf.predict(X_test)\n",
    "accuracy = accuracy_score(y_test, y_pred)\n",
    "print(f\"Optimized Random Forest Accuracy: {accuracy:.4f}\")\n",
    "\n"
   ]
  },
  {
   "cell_type": "code",
   "execution_count": null,
   "metadata": {},
   "outputs": [
    {
     "name": "stdout",
     "output_type": "stream",
     "text": [
      "Best model saved as 'best_random_forest.pkl'\n"
     ]
    }
   ],
   "source": [
    "# Save the best model\n",
    "joblib.dump(best_rf, \"best_random_forest.pkl\")\n",
    "print(\"Best model saved as 'best_random_forest.pkl'\")"
   ]
  }
 ],
 "metadata": {
  "kernelspec": {
   "display_name": "Python 3",
   "language": "python",
   "name": "python3"
  },
  "language_info": {
   "codemirror_mode": {
    "name": "ipython",
    "version": 3
   },
   "file_extension": ".py",
   "mimetype": "text/x-python",
   "name": "python",
   "nbconvert_exporter": "python",
   "pygments_lexer": "ipython3",
   "version": "3.10.11"
  }
 },
 "nbformat": 4,
 "nbformat_minor": 2
}
